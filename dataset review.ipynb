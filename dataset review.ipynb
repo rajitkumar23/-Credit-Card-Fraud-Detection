{
 "cells": [
  {
   "cell_type": "code",
   "execution_count": 2,
   "metadata": {},
   "outputs": [],
   "source": [
    "import pandas as pd\n",
    "import numpy as np\n",
    "import matplotlib.pyplot as plt\n",
    "import seaborn as sns"
   ]
  },
  {
   "cell_type": "code",
   "execution_count": 3,
   "metadata": {},
   "outputs": [
    {
     "name": "stderr",
     "output_type": "stream",
     "text": [
      "C:\\Users\\Jai Surya\\Anaconda3\\envs\\DAB300\\lib\\site-packages\\IPython\\core\\interactiveshell.py:3058: DtypeWarning: Columns (2) have mixed types. Specify dtype option on import or set low_memory=False.\n",
      "  interactivity=interactivity, compiler=compiler, result=result)\n"
     ]
    }
   ],
   "source": [
    "df = pd.read_csv(\"prediction_output_email.csv\")"
   ]
  },
  {
   "cell_type": "code",
   "execution_count": 4,
   "metadata": {},
   "outputs": [
    {
     "data": {
      "text/html": [
       "<div>\n",
       "<style scoped>\n",
       "    .dataframe tbody tr th:only-of-type {\n",
       "        vertical-align: middle;\n",
       "    }\n",
       "\n",
       "    .dataframe tbody tr th {\n",
       "        vertical-align: top;\n",
       "    }\n",
       "\n",
       "    .dataframe thead th {\n",
       "        text-align: right;\n",
       "    }\n",
       "</style>\n",
       "<table border=\"1\" class=\"dataframe\">\n",
       "  <thead>\n",
       "    <tr style=\"text-align: right;\">\n",
       "      <th></th>\n",
       "      <th>TransactionID</th>\n",
       "      <th>isFraud</th>\n",
       "      <th>emailaddress</th>\n",
       "      <th>TransactionAmt</th>\n",
       "      <th>Scored Probabilities</th>\n",
       "      <th>TransactionDT</th>\n",
       "      <th>ProductCD</th>\n",
       "      <th>card4</th>\n",
       "      <th>card6</th>\n",
       "      <th>P_emaildomain</th>\n",
       "      <th>R_emaildomain</th>\n",
       "      <th>DeviceType</th>\n",
       "      <th>DeviceInfo</th>\n",
       "    </tr>\n",
       "  </thead>\n",
       "  <tbody>\n",
       "    <tr>\n",
       "      <td>0</td>\n",
       "      <td>3664355</td>\n",
       "      <td>0</td>\n",
       "      <td>NaN</td>\n",
       "      <td>77.00</td>\n",
       "      <td>0.020594</td>\n",
       "      <td>18457803</td>\n",
       "      <td>W</td>\n",
       "      <td>visa</td>\n",
       "      <td>debit</td>\n",
       "      <td>gmail.com</td>\n",
       "      <td>NaN</td>\n",
       "      <td>NaN</td>\n",
       "      <td>NaN</td>\n",
       "    </tr>\n",
       "    <tr>\n",
       "      <td>1</td>\n",
       "      <td>3664418</td>\n",
       "      <td>0</td>\n",
       "      <td>NaN</td>\n",
       "      <td>82.95</td>\n",
       "      <td>0.020594</td>\n",
       "      <td>18459690</td>\n",
       "      <td>W</td>\n",
       "      <td>visa</td>\n",
       "      <td>debit</td>\n",
       "      <td>yahoo.com</td>\n",
       "      <td>NaN</td>\n",
       "      <td>NaN</td>\n",
       "      <td>NaN</td>\n",
       "    </tr>\n",
       "    <tr>\n",
       "      <td>2</td>\n",
       "      <td>3664423</td>\n",
       "      <td>0</td>\n",
       "      <td>NaN</td>\n",
       "      <td>59.00</td>\n",
       "      <td>0.020594</td>\n",
       "      <td>18459826</td>\n",
       "      <td>W</td>\n",
       "      <td>mastercard</td>\n",
       "      <td>debit</td>\n",
       "      <td>yahoo.com</td>\n",
       "      <td>NaN</td>\n",
       "      <td>NaN</td>\n",
       "      <td>NaN</td>\n",
       "    </tr>\n",
       "    <tr>\n",
       "      <td>3</td>\n",
       "      <td>3664469</td>\n",
       "      <td>0</td>\n",
       "      <td>NaN</td>\n",
       "      <td>67.95</td>\n",
       "      <td>0.020594</td>\n",
       "      <td>18460794</td>\n",
       "      <td>W</td>\n",
       "      <td>visa</td>\n",
       "      <td>debit</td>\n",
       "      <td>gmail.com</td>\n",
       "      <td>NaN</td>\n",
       "      <td>NaN</td>\n",
       "      <td>NaN</td>\n",
       "    </tr>\n",
       "    <tr>\n",
       "      <td>4</td>\n",
       "      <td>3665115</td>\n",
       "      <td>0</td>\n",
       "      <td>NaN</td>\n",
       "      <td>49.00</td>\n",
       "      <td>0.020594</td>\n",
       "      <td>18475947</td>\n",
       "      <td>W</td>\n",
       "      <td>mastercard</td>\n",
       "      <td>debit</td>\n",
       "      <td>yahoo.com</td>\n",
       "      <td>NaN</td>\n",
       "      <td>NaN</td>\n",
       "      <td>NaN</td>\n",
       "    </tr>\n",
       "  </tbody>\n",
       "</table>\n",
       "</div>"
      ],
      "text/plain": [
       "   TransactionID  isFraud emailaddress  TransactionAmt  Scored Probabilities  \\\n",
       "0        3664355        0          NaN           77.00              0.020594   \n",
       "1        3664418        0          NaN           82.95              0.020594   \n",
       "2        3664423        0          NaN           59.00              0.020594   \n",
       "3        3664469        0          NaN           67.95              0.020594   \n",
       "4        3665115        0          NaN           49.00              0.020594   \n",
       "\n",
       "   TransactionDT ProductCD       card4  card6 P_emaildomain R_emaildomain  \\\n",
       "0       18457803         W        visa  debit     gmail.com           NaN   \n",
       "1       18459690         W        visa  debit     yahoo.com           NaN   \n",
       "2       18459826         W  mastercard  debit     yahoo.com           NaN   \n",
       "3       18460794         W        visa  debit     gmail.com           NaN   \n",
       "4       18475947         W  mastercard  debit     yahoo.com           NaN   \n",
       "\n",
       "  DeviceType DeviceInfo  \n",
       "0        NaN        NaN  \n",
       "1        NaN        NaN  \n",
       "2        NaN        NaN  \n",
       "3        NaN        NaN  \n",
       "4        NaN        NaN  "
      ]
     },
     "execution_count": 4,
     "metadata": {},
     "output_type": "execute_result"
    }
   ],
   "source": [
    "df.head()"
   ]
  },
  {
   "cell_type": "code",
   "execution_count": 5,
   "metadata": {},
   "outputs": [
    {
     "data": {
      "text/plain": [
       "(506691, 13)"
      ]
     },
     "execution_count": 5,
     "metadata": {},
     "output_type": "execute_result"
    }
   ],
   "source": [
    "df.shape"
   ]
  },
  {
   "cell_type": "code",
   "execution_count": 6,
   "metadata": {},
   "outputs": [
    {
     "data": {
      "text/html": [
       "<div>\n",
       "<style scoped>\n",
       "    .dataframe tbody tr th:only-of-type {\n",
       "        vertical-align: middle;\n",
       "    }\n",
       "\n",
       "    .dataframe tbody tr th {\n",
       "        vertical-align: top;\n",
       "    }\n",
       "\n",
       "    .dataframe thead th {\n",
       "        text-align: right;\n",
       "    }\n",
       "</style>\n",
       "<table border=\"1\" class=\"dataframe\">\n",
       "  <thead>\n",
       "    <tr style=\"text-align: right;\">\n",
       "      <th></th>\n",
       "      <th>TransactionID</th>\n",
       "      <th>isFraud</th>\n",
       "      <th>emailaddress</th>\n",
       "      <th>TransactionAmt</th>\n",
       "      <th>Scored Probabilities</th>\n",
       "      <th>TransactionDT</th>\n",
       "      <th>ProductCD</th>\n",
       "      <th>card4</th>\n",
       "      <th>card6</th>\n",
       "      <th>P_emaildomain</th>\n",
       "      <th>R_emaildomain</th>\n",
       "      <th>DeviceType</th>\n",
       "      <th>DeviceInfo</th>\n",
       "    </tr>\n",
       "  </thead>\n",
       "  <tbody>\n",
       "    <tr>\n",
       "      <td>0</td>\n",
       "      <td>3664355</td>\n",
       "      <td>0</td>\n",
       "      <td>NaN</td>\n",
       "      <td>77.000</td>\n",
       "      <td>0.020594</td>\n",
       "      <td>18457803</td>\n",
       "      <td>W</td>\n",
       "      <td>visa</td>\n",
       "      <td>debit</td>\n",
       "      <td>gmail.com</td>\n",
       "      <td>NaN</td>\n",
       "      <td>NaN</td>\n",
       "      <td>NaN</td>\n",
       "    </tr>\n",
       "    <tr>\n",
       "      <td>1</td>\n",
       "      <td>3664418</td>\n",
       "      <td>0</td>\n",
       "      <td>NaN</td>\n",
       "      <td>82.950</td>\n",
       "      <td>0.020594</td>\n",
       "      <td>18459690</td>\n",
       "      <td>W</td>\n",
       "      <td>visa</td>\n",
       "      <td>debit</td>\n",
       "      <td>yahoo.com</td>\n",
       "      <td>NaN</td>\n",
       "      <td>NaN</td>\n",
       "      <td>NaN</td>\n",
       "    </tr>\n",
       "    <tr>\n",
       "      <td>2</td>\n",
       "      <td>3664423</td>\n",
       "      <td>0</td>\n",
       "      <td>NaN</td>\n",
       "      <td>59.000</td>\n",
       "      <td>0.020594</td>\n",
       "      <td>18459826</td>\n",
       "      <td>W</td>\n",
       "      <td>mastercard</td>\n",
       "      <td>debit</td>\n",
       "      <td>yahoo.com</td>\n",
       "      <td>NaN</td>\n",
       "      <td>NaN</td>\n",
       "      <td>NaN</td>\n",
       "    </tr>\n",
       "    <tr>\n",
       "      <td>3</td>\n",
       "      <td>3664469</td>\n",
       "      <td>0</td>\n",
       "      <td>NaN</td>\n",
       "      <td>67.950</td>\n",
       "      <td>0.020594</td>\n",
       "      <td>18460794</td>\n",
       "      <td>W</td>\n",
       "      <td>visa</td>\n",
       "      <td>debit</td>\n",
       "      <td>gmail.com</td>\n",
       "      <td>NaN</td>\n",
       "      <td>NaN</td>\n",
       "      <td>NaN</td>\n",
       "    </tr>\n",
       "    <tr>\n",
       "      <td>4</td>\n",
       "      <td>3665115</td>\n",
       "      <td>0</td>\n",
       "      <td>NaN</td>\n",
       "      <td>49.000</td>\n",
       "      <td>0.020594</td>\n",
       "      <td>18475947</td>\n",
       "      <td>W</td>\n",
       "      <td>mastercard</td>\n",
       "      <td>debit</td>\n",
       "      <td>yahoo.com</td>\n",
       "      <td>NaN</td>\n",
       "      <td>NaN</td>\n",
       "      <td>NaN</td>\n",
       "    </tr>\n",
       "    <tr>\n",
       "      <td>...</td>\n",
       "      <td>...</td>\n",
       "      <td>...</td>\n",
       "      <td>...</td>\n",
       "      <td>...</td>\n",
       "      <td>...</td>\n",
       "      <td>...</td>\n",
       "      <td>...</td>\n",
       "      <td>...</td>\n",
       "      <td>...</td>\n",
       "      <td>...</td>\n",
       "      <td>...</td>\n",
       "      <td>...</td>\n",
       "      <td>...</td>\n",
       "    </tr>\n",
       "    <tr>\n",
       "      <td>506686</td>\n",
       "      <td>4169688</td>\n",
       "      <td>0</td>\n",
       "      <td>NaN</td>\n",
       "      <td>226.000</td>\n",
       "      <td>0.020594</td>\n",
       "      <td>34203780</td>\n",
       "      <td>W</td>\n",
       "      <td>visa</td>\n",
       "      <td>debit</td>\n",
       "      <td>aol.com</td>\n",
       "      <td>NaN</td>\n",
       "      <td>NaN</td>\n",
       "      <td>NaN</td>\n",
       "    </tr>\n",
       "    <tr>\n",
       "      <td>506687</td>\n",
       "      <td>4169812</td>\n",
       "      <td>0</td>\n",
       "      <td>NaN</td>\n",
       "      <td>44.020</td>\n",
       "      <td>0.071755</td>\n",
       "      <td>34206151</td>\n",
       "      <td>C</td>\n",
       "      <td>visa</td>\n",
       "      <td>debit</td>\n",
       "      <td>gmail.com</td>\n",
       "      <td>gmail.com</td>\n",
       "      <td>mobile</td>\n",
       "      <td>5011A Build/NRD90M</td>\n",
       "    </tr>\n",
       "    <tr>\n",
       "      <td>506688</td>\n",
       "      <td>4169858</td>\n",
       "      <td>0</td>\n",
       "      <td>NaN</td>\n",
       "      <td>77.950</td>\n",
       "      <td>0.020594</td>\n",
       "      <td>34207340</td>\n",
       "      <td>W</td>\n",
       "      <td>mastercard</td>\n",
       "      <td>debit</td>\n",
       "      <td>att.net</td>\n",
       "      <td>NaN</td>\n",
       "      <td>NaN</td>\n",
       "      <td>NaN</td>\n",
       "    </tr>\n",
       "    <tr>\n",
       "      <td>506689</td>\n",
       "      <td>4169862</td>\n",
       "      <td>0</td>\n",
       "      <td>NaN</td>\n",
       "      <td>58.950</td>\n",
       "      <td>0.020594</td>\n",
       "      <td>34207378</td>\n",
       "      <td>W</td>\n",
       "      <td>visa</td>\n",
       "      <td>debit</td>\n",
       "      <td>gmail.com</td>\n",
       "      <td>NaN</td>\n",
       "      <td>NaN</td>\n",
       "      <td>NaN</td>\n",
       "    </tr>\n",
       "    <tr>\n",
       "      <td>506690</td>\n",
       "      <td>4170132</td>\n",
       "      <td>0</td>\n",
       "      <td>NaN</td>\n",
       "      <td>36.765</td>\n",
       "      <td>0.042245</td>\n",
       "      <td>34212379</td>\n",
       "      <td>C</td>\n",
       "      <td>mastercard</td>\n",
       "      <td>credit</td>\n",
       "      <td>hotmail.com</td>\n",
       "      <td>hotmail.com</td>\n",
       "      <td>mobile</td>\n",
       "      <td>DRA-LX3 Build/HUAWEIDRA-LX3</td>\n",
       "    </tr>\n",
       "  </tbody>\n",
       "</table>\n",
       "<p>506691 rows × 13 columns</p>\n",
       "</div>"
      ],
      "text/plain": [
       "        TransactionID  isFraud emailaddress  TransactionAmt  \\\n",
       "0             3664355        0          NaN          77.000   \n",
       "1             3664418        0          NaN          82.950   \n",
       "2             3664423        0          NaN          59.000   \n",
       "3             3664469        0          NaN          67.950   \n",
       "4             3665115        0          NaN          49.000   \n",
       "...               ...      ...          ...             ...   \n",
       "506686        4169688        0          NaN         226.000   \n",
       "506687        4169812        0          NaN          44.020   \n",
       "506688        4169858        0          NaN          77.950   \n",
       "506689        4169862        0          NaN          58.950   \n",
       "506690        4170132        0          NaN          36.765   \n",
       "\n",
       "        Scored Probabilities  TransactionDT ProductCD       card4   card6  \\\n",
       "0                   0.020594       18457803         W        visa   debit   \n",
       "1                   0.020594       18459690         W        visa   debit   \n",
       "2                   0.020594       18459826         W  mastercard   debit   \n",
       "3                   0.020594       18460794         W        visa   debit   \n",
       "4                   0.020594       18475947         W  mastercard   debit   \n",
       "...                      ...            ...       ...         ...     ...   \n",
       "506686              0.020594       34203780         W        visa   debit   \n",
       "506687              0.071755       34206151         C        visa   debit   \n",
       "506688              0.020594       34207340         W  mastercard   debit   \n",
       "506689              0.020594       34207378         W        visa   debit   \n",
       "506690              0.042245       34212379         C  mastercard  credit   \n",
       "\n",
       "       P_emaildomain R_emaildomain DeviceType                   DeviceInfo  \n",
       "0          gmail.com           NaN        NaN                          NaN  \n",
       "1          yahoo.com           NaN        NaN                          NaN  \n",
       "2          yahoo.com           NaN        NaN                          NaN  \n",
       "3          gmail.com           NaN        NaN                          NaN  \n",
       "4          yahoo.com           NaN        NaN                          NaN  \n",
       "...              ...           ...        ...                          ...  \n",
       "506686       aol.com           NaN        NaN                          NaN  \n",
       "506687     gmail.com     gmail.com     mobile           5011A Build/NRD90M  \n",
       "506688       att.net           NaN        NaN                          NaN  \n",
       "506689     gmail.com           NaN        NaN                          NaN  \n",
       "506690   hotmail.com   hotmail.com     mobile  DRA-LX3 Build/HUAWEIDRA-LX3  \n",
       "\n",
       "[506691 rows x 13 columns]"
      ]
     },
     "execution_count": 6,
     "metadata": {},
     "output_type": "execute_result"
    }
   ],
   "source": [
    "df"
   ]
  },
  {
   "cell_type": "code",
   "execution_count": 7,
   "metadata": {},
   "outputs": [
    {
     "data": {
      "text/plain": [
       "Index(['TransactionID', 'isFraud', 'emailaddress', 'TransactionAmt',\n",
       "       'Scored Probabilities', 'TransactionDT', 'ProductCD', 'card4', 'card6',\n",
       "       'P_emaildomain', 'R_emaildomain', 'DeviceType', 'DeviceInfo'],\n",
       "      dtype='object')"
      ]
     },
     "execution_count": 7,
     "metadata": {},
     "output_type": "execute_result"
    }
   ],
   "source": [
    "df.columns"
   ]
  },
  {
   "cell_type": "code",
   "execution_count": 8,
   "metadata": {},
   "outputs": [
    {
     "data": {
      "text/html": [
       "<div>\n",
       "<style scoped>\n",
       "    .dataframe tbody tr th:only-of-type {\n",
       "        vertical-align: middle;\n",
       "    }\n",
       "\n",
       "    .dataframe tbody tr th {\n",
       "        vertical-align: top;\n",
       "    }\n",
       "\n",
       "    .dataframe thead th {\n",
       "        text-align: right;\n",
       "    }\n",
       "</style>\n",
       "<table border=\"1\" class=\"dataframe\">\n",
       "  <thead>\n",
       "    <tr style=\"text-align: right;\">\n",
       "      <th></th>\n",
       "      <th>TransactionID</th>\n",
       "      <th>emailaddress</th>\n",
       "      <th>TransactionAmt</th>\n",
       "      <th>Scored Probabilities</th>\n",
       "      <th>TransactionDT</th>\n",
       "      <th>ProductCD</th>\n",
       "      <th>card4</th>\n",
       "      <th>card6</th>\n",
       "      <th>P_emaildomain</th>\n",
       "      <th>R_emaildomain</th>\n",
       "      <th>DeviceType</th>\n",
       "      <th>DeviceInfo</th>\n",
       "    </tr>\n",
       "    <tr>\n",
       "      <th>isFraud</th>\n",
       "      <th></th>\n",
       "      <th></th>\n",
       "      <th></th>\n",
       "      <th></th>\n",
       "      <th></th>\n",
       "      <th></th>\n",
       "      <th></th>\n",
       "      <th></th>\n",
       "      <th></th>\n",
       "      <th></th>\n",
       "      <th></th>\n",
       "      <th></th>\n",
       "    </tr>\n",
       "  </thead>\n",
       "  <tbody>\n",
       "    <tr>\n",
       "      <td>0</td>\n",
       "      <td>500954</td>\n",
       "      <td>0</td>\n",
       "      <td>500954</td>\n",
       "      <td>500954</td>\n",
       "      <td>500954</td>\n",
       "      <td>500954</td>\n",
       "      <td>497899</td>\n",
       "      <td>497977</td>\n",
       "      <td>431876</td>\n",
       "      <td>130196</td>\n",
       "      <td>131195</td>\n",
       "      <td>110338</td>\n",
       "    </tr>\n",
       "    <tr>\n",
       "      <td>1</td>\n",
       "      <td>5737</td>\n",
       "      <td>6</td>\n",
       "      <td>5737</td>\n",
       "      <td>5737</td>\n",
       "      <td>5737</td>\n",
       "      <td>5737</td>\n",
       "      <td>5706</td>\n",
       "      <td>5707</td>\n",
       "      <td>5623</td>\n",
       "      <td>5674</td>\n",
       "      <td>5736</td>\n",
       "      <td>4719</td>\n",
       "    </tr>\n",
       "  </tbody>\n",
       "</table>\n",
       "</div>"
      ],
      "text/plain": [
       "         TransactionID  emailaddress  TransactionAmt  Scored Probabilities  \\\n",
       "isFraud                                                                      \n",
       "0               500954             0          500954                500954   \n",
       "1                 5737             6            5737                  5737   \n",
       "\n",
       "         TransactionDT  ProductCD   card4   card6  P_emaildomain  \\\n",
       "isFraud                                                            \n",
       "0               500954     500954  497899  497977         431876   \n",
       "1                 5737       5737    5706    5707           5623   \n",
       "\n",
       "         R_emaildomain  DeviceType  DeviceInfo  \n",
       "isFraud                                         \n",
       "0               130196      131195      110338  \n",
       "1                 5674        5736        4719  "
      ]
     },
     "execution_count": 8,
     "metadata": {},
     "output_type": "execute_result"
    }
   ],
   "source": [
    "df.groupby(\"isFraud\").count()"
   ]
  },
  {
   "cell_type": "code",
   "execution_count": 9,
   "metadata": {
    "scrolled": true
   },
   "outputs": [
    {
     "data": {
      "text/plain": [
       "Text(0.5, 1.0, 'Distribution of Credit Card Transactions')"
      ]
     },
     "execution_count": 9,
     "metadata": {},
     "output_type": "execute_result"
    },
    {
     "data": {
      "image/png": "[encoded data removed]",
      "text/plain": [
       "<Figure size 432x288 with 1 Axes>"
      ]
     },
     "metadata": {
      "needs_background": "light"
     },
     "output_type": "display_data"
    }
   ],
   "source": [
    "sns.countplot(df['isFraud'])\n",
    "plt.title('Distribution of Credit Card Transactions')"
   ]
  },
  {
   "cell_type": "code",
   "execution_count": 10,
   "metadata": {},
   "outputs": [
    {
     "data": {
      "text/plain": [
       "1714185"
      ]
     },
     "execution_count": 10,
     "metadata": {},
     "output_type": "execute_result"
    }
   ],
   "source": [
    "df.isnull().sum().sum()"
   ]
  },
  {
   "cell_type": "code",
   "execution_count": 11,
   "metadata": {},
   "outputs": [
    {
     "data": {
      "text/plain": [
       "TransactionID           5.166427e-18\n",
       "isFraud                 9.237522e+00\n",
       "TransactionAmt          8.600886e+00\n",
       "Scored Probabilities    8.174743e+00\n",
       "TransactionDT          -1.461656e-01\n",
       "dtype: float64"
      ]
     },
     "execution_count": 11,
     "metadata": {},
     "output_type": "execute_result"
    }
   ],
   "source": [
    "df.skew()"
   ]
  },
  {
   "cell_type": "code",
   "execution_count": 12,
   "metadata": {},
   "outputs": [
    {
     "data": {
      "text/plain": [
       "TransactionID                0\n",
       "isFraud                      0\n",
       "emailaddress            506685\n",
       "TransactionAmt               0\n",
       "Scored Probabilities         0\n",
       "TransactionDT                0\n",
       "ProductCD                    0\n",
       "card4                     3086\n",
       "card6                     3007\n",
       "P_emaildomain            69192\n",
       "R_emaildomain           370821\n",
       "DeviceType              369760\n",
       "DeviceInfo              391634\n",
       "dtype: int64"
      ]
     },
     "execution_count": 12,
     "metadata": {},
     "output_type": "execute_result"
    }
   ],
   "source": [
    "df.isnull().sum()"
   ]
  },
  {
   "cell_type": "code",
   "execution_count": 14,
   "metadata": {},
   "outputs": [
    {
     "data": {
      "text/plain": [
       "TransactionID           506691\n",
       "isFraud                 506691\n",
       "emailaddress                 6\n",
       "TransactionAmt          506691\n",
       "Scored Probabilities    506691\n",
       "TransactionDT           506691\n",
       "ProductCD               506691\n",
       "card4                   503605\n",
       "card6                   503684\n",
       "P_emaildomain           437499\n",
       "R_emaildomain           135870\n",
       "DeviceType              136931\n",
       "DeviceInfo              115057\n",
       "dtype: int64"
      ]
     },
     "execution_count": 14,
     "metadata": {},
     "output_type": "execute_result"
    }
   ],
   "source": [
    "df.notnull().sum()"
   ]
  },
  {
   "cell_type": "code",
   "execution_count": null,
   "metadata": {},
   "outputs": [],
   "source": []
  }
 ],
 "metadata": {
  "kernelspec": {
   "display_name": "Python 3",
   "language": "python",
   "name": "python3"
  },
  "language_info": {
   "codemirror_mode": {
    "name": "ipython",
    "version": 3
   },
   "file_extension": ".py",
   "mimetype": "text/x-python",
   "name": "python",
   "nbconvert_exporter": "python",
   "pygments_lexer": "ipython3",
   "version": "3.7.4"
  }
 },
 "nbformat": 4,
 "nbformat_minor": 2
}
